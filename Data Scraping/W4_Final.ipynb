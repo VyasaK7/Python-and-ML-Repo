{
 "cells": [
  {
   "cell_type": "code",
   "execution_count": 1,
   "id": "4ba324c5",
   "metadata": {},
   "outputs": [
    {
     "data": {
      "text/plain": [
       "[{'player': 'C H\\t Gayle', 'sixes': '355'},\n",
       " {'player': 'A B\\t de Villiers', 'sixes': '250'},\n",
       " {'player': 'R G\\t Sharma', 'sixes': '240'},\n",
       " {'player': 'M S\\t Dhoni', 'sixes': '229'},\n",
       " {'player': 'K A\\t Pollard', 'sixes': '222'},\n",
       " {'player': 'V\\t Kohli', 'sixes': '218'},\n",
       " {'player': 'D A\\t Warner', 'sixes': '211'},\n",
       " {'player': 'S K\\t Raina', 'sixes': '203'},\n",
       " {'player': 'S R\\t Watson', 'sixes': '190'},\n",
       " {'player': 'R V\\t Uthappa', 'sixes': '180'},\n",
       " {'player': 'A D\\t Russell', 'sixes': '175'},\n",
       " {'player': 'A T\\t Rayudu', 'sixes': '164'},\n",
       " {'player': 'K L\\t Rahul', 'sixes': '164'},\n",
       " {'player': 'S V\\t Samson', 'sixes': '158'},\n",
       " {'player': 'Y K\\t Pathan', 'sixes': '158'},\n",
       " {'player': 'Yuvraj Singh', 'sixes': '149'},\n",
       " {'player': 'S\\t Dhawan', 'sixes': '136'},\n",
       " {'player': 'J C\\t Buttler', 'sixes': '135'},\n",
       " {'player': 'K D\\t Karthik', 'sixes': '134'},\n",
       " {'player': 'B B\\t McCullum', 'sixes': '130'}]"
      ]
     },
     "execution_count": 1,
     "metadata": {},
     "output_type": "execute_result"
    }
   ],
   "source": [
    "import requests\n",
    "from bs4 import BeautifulSoup\n",
    "import json\n",
    "\n",
    "data = requests.post(\"http://www.howstat.com/cricket/Statistics/IPL/BattingMostAgg.asp?q=5&o=6s&c=XXX&s=XXXX\");\n",
    "soup = BeautifulSoup(data.text)\n",
    "alltrs = soup.find_all(\"tr\",{\"bgcolor\":True})\n",
    "resultArray = []\n",
    "#print(\"Scraping for \",year,\"is done\")\n",
    "for tr in alltrs:\n",
    "    alltds = tr.find_all(\"td\")\n",
    "    alltdtexts = [td.text.strip() for td in alltds]\n",
    "    result = {\n",
    "        \"player\": alltdtexts[0],\n",
    "        #\"teams\": alltdtexts[1],\n",
    "        #\"matches\": alltdtexts[2],\n",
    "        #\"inns\":alltdtexts[3],\n",
    "        #\"no\":alltdtexts[4],\n",
    "        #\"runs\":alltdtexts[5],\n",
    "        #\"hs\":alltdtexts[6],\n",
    "        #\"hundereds\":alltdtexts[7],\n",
    "        #\"fiftys\":alltdtexts[8],\n",
    "        #\"avg\":alltdtexts[9],\n",
    "        #\"Strike_Rate\":alltdtexts[10],\n",
    "        #\"fours\":alltdtexts[11],\n",
    "        \"sixes\":alltdtexts[12]\n",
    "    }\n",
    "    resultArray.append(result)\n",
    "    \n",
    "resultArray[0:20]"
   ]
  },
  {
   "cell_type": "code",
   "execution_count": null,
   "id": "5db12e86",
   "metadata": {},
   "outputs": [],
   "source": []
  }
 ],
 "metadata": {
  "kernelspec": {
   "display_name": "Python 3 (ipykernel)",
   "language": "python",
   "name": "python3"
  },
  "language_info": {
   "codemirror_mode": {
    "name": "ipython",
    "version": 3
   },
   "file_extension": ".py",
   "mimetype": "text/x-python",
   "name": "python",
   "nbconvert_exporter": "python",
   "pygments_lexer": "ipython3",
   "version": "3.9.12"
  }
 },
 "nbformat": 4,
 "nbformat_minor": 5
}
