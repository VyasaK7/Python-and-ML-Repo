{
 "cells": [
  {
   "cell_type": "code",
   "execution_count": 6,
   "id": "2feff005",
   "metadata": {},
   "outputs": [],
   "source": [
    "import requests\n",
    "from bs4 import BeautifulSoup\n",
    "import json"
   ]
  },
  {
   "cell_type": "code",
   "execution_count": 7,
   "id": "f762382e",
   "metadata": {},
   "outputs": [
    {
     "name": "stdout",
     "output_type": "stream",
     "text": [
      "Scraping for  1971 is done\n",
      "Scraping for  1972 is done\n",
      "Scraping for  1973 is done\n",
      "Scraping for  1974 is done\n",
      "Scraping for  1975 is done\n",
      "Scraping for  1976 is done\n",
      "Scraping for  1977 is done\n",
      "Scraping for  1978 is done\n",
      "Scraping for  1979 is done\n",
      "Scraping for  1980 is done\n",
      "Scraping for  1981 is done\n",
      "Scraping for  1982 is done\n",
      "Scraping for  1983 is done\n",
      "Scraping for  1984 is done\n",
      "Scraping for  1985 is done\n",
      "Scraping for  1986 is done\n",
      "Scraping for  1987 is done\n",
      "Scraping for  1988 is done\n",
      "Scraping for  1989 is done\n",
      "Scraping for  1990 is done\n",
      "Scraping for  1991 is done\n",
      "Scraping for  1992 is done\n",
      "Scraping for  1993 is done\n",
      "Scraping for  1994 is done\n",
      "Scraping for  1995 is done\n",
      "Scraping for  1996 is done\n",
      "Scraping for  1997 is done\n",
      "Scraping for  1998 is done\n",
      "Scraping for  1999 is done\n",
      "Scraping for  2000 is done\n",
      "Scraping for  2001 is done\n",
      "Scraping for  2002 is done\n",
      "Scraping for  2003 is done\n",
      "Scraping for  2004 is done\n",
      "Scraping for  2005 is done\n",
      "Scraping for  2006 is done\n",
      "Scraping for  2007 is done\n",
      "Scraping for  2008 is done\n",
      "Scraping for  2009 is done\n",
      "Scraping for  2010 is done\n",
      "Scraping for  2011 is done\n",
      "Scraping for  2012 is done\n",
      "Scraping for  2013 is done\n",
      "Scraping for  2014 is done\n",
      "Scraping for  2015 is done\n",
      "Scraping for  2016 is done\n",
      "Scraping for  2017 is done\n",
      "Scraping for  2018 is done\n",
      "Scraping for  2019 is done\n",
      "Scraping for  2020 is done\n",
      "Scraping for  2021 is done\n",
      "Scraping for  2022 is done\n"
     ]
    }
   ],
   "source": [
    "for year in range(1971, 2023):\n",
    "  data = requests.post(\"http://www.howstat.com/cricket/Statistics/Batting/BattingMostRunsYear_ODI.asp\", {\"cboYears\":year});\n",
    "  soup = BeautifulSoup(data.text)\n",
    "  alltrs = soup.find_all(\"tr\",{\"bgcolor\":True})\n",
    "  resultArray = []\n",
    "  print(\"Scraping for \",year,\"is done\")\n",
    "  for tr in alltrs:\n",
    "    alltds = tr.find_all(\"td\")\n",
    "    alltdtexts = [td.text.strip() for td in alltds]\n",
    "    result = {\n",
    "        \"id\": alltdtexts[0],\n",
    "        \"player\": alltdtexts[1],\n",
    "        \"country\": alltdtexts[2],\n",
    "        \"matches\":alltdtexts[3],\n",
    "        \"inns\": alltdtexts[4],\n",
    "        \"no\":alltdtexts[5],\n",
    "        \"runs\":alltdtexts[6],\n",
    "        \"hs\":alltdtexts[7],\n",
    "        \"100s\":alltdtexts[8],\n",
    "        \"50s\":alltdtexts[9],\n",
    "        \"avg\":alltdtexts[10]\n",
    "    }\n",
    "    resultArray.append(result)\n",
    "  with open(str(year)+\".json\",\"w\") as f:\n",
    "    json.dump(resultArray, f)"
   ]
  },
  {
   "cell_type": "code",
   "execution_count": 17,
   "id": "c6ec81ee",
   "metadata": {},
   "outputs": [],
   "source": [
    "#for year in range(1971, 2023):\n",
    "data = requests.post(\"http://www.howstat.com/cricket/Statistics/IPL/BattingMostAgg.asp?q=5&o=6s&c=XXX&s=XXXX\");\n",
    "soup = BeautifulSoup(data.text)\n",
    "alltrs = soup.find_all(\"tr\",{\"bgcolor\":True})\n",
    "resultArray = []\n",
    "#print(\"Scraping for \",year,\"is done\")\n",
    "for tr in alltrs:\n",
    "    alltds = tr.find_all(\"td\")\n",
    "    alltdtexts = [td.text.strip() for td in alltds]\n",
    "    result = {\n",
    "        \"player\": alltdtexts[0],\n",
    "        #\"teams\": alltdtexts[1],\n",
    "        #\"matches\": alltdtexts[2],\n",
    "        #\"inns\":alltdtexts[3],\n",
    "        #\"no\":alltdtexts[4],\n",
    "        #\"runs\":alltdtexts[5],\n",
    "        #\"hs\":alltdtexts[6],\n",
    "        #\"hundereds\":alltdtexts[7],\n",
    "        #\"fiftys\":alltdtexts[8],\n",
    "        #\"avg\":alltdtexts[9],\n",
    "        #\"Strike_Rate\":alltdtexts[10],\n",
    "        #\"fours\":alltdtexts[11],\n",
    "        \"sixes\":alltdtexts[12]\n",
    "    }\n",
    "    resultArray.append(result)"
   ]
  },
  {
   "cell_type": "code",
   "execution_count": 25,
   "id": "2de51761",
   "metadata": {},
   "outputs": [
    {
     "data": {
      "text/plain": [
       "[{'player': 'C H\\t Gayle', 'sixes': '355'},\n",
       " {'player': 'A B\\t de Villiers', 'sixes': '250'},\n",
       " {'player': 'R G\\t Sharma', 'sixes': '240'},\n",
       " {'player': 'M S\\t Dhoni', 'sixes': '229'},\n",
       " {'player': 'K A\\t Pollard', 'sixes': '222'},\n",
       " {'player': 'V\\t Kohli', 'sixes': '218'},\n",
       " {'player': 'D A\\t Warner', 'sixes': '211'},\n",
       " {'player': 'S K\\t Raina', 'sixes': '203'},\n",
       " {'player': 'S R\\t Watson', 'sixes': '190'},\n",
       " {'player': 'R V\\t Uthappa', 'sixes': '180'},\n",
       " {'player': 'A D\\t Russell', 'sixes': '175'},\n",
       " {'player': 'A T\\t Rayudu', 'sixes': '164'},\n",
       " {'player': 'K L\\t Rahul', 'sixes': '164'},\n",
       " {'player': 'S V\\t Samson', 'sixes': '158'},\n",
       " {'player': 'Y K\\t Pathan', 'sixes': '158'},\n",
       " {'player': 'Yuvraj Singh', 'sixes': '149'},\n",
       " {'player': 'S\\t Dhawan', 'sixes': '136'},\n",
       " {'player': 'J C\\t Buttler', 'sixes': '135'},\n",
       " {'player': 'K D\\t Karthik', 'sixes': '134'},\n",
       " {'player': 'B B\\t McCullum', 'sixes': '130'}]"
      ]
     },
     "execution_count": 25,
     "metadata": {},
     "output_type": "execute_result"
    }
   ],
   "source": [
    "resultArray[0:20]"
   ]
  },
  {
   "cell_type": "code",
   "execution_count": null,
   "id": "437f7cac",
   "metadata": {},
   "outputs": [],
   "source": []
  }
 ],
 "metadata": {
  "kernelspec": {
   "display_name": "Python 3 (ipykernel)",
   "language": "python",
   "name": "python3"
  },
  "language_info": {
   "codemirror_mode": {
    "name": "ipython",
    "version": 3
   },
   "file_extension": ".py",
   "mimetype": "text/x-python",
   "name": "python",
   "nbconvert_exporter": "python",
   "pygments_lexer": "ipython3",
   "version": "3.9.12"
  }
 },
 "nbformat": 4,
 "nbformat_minor": 5
}
