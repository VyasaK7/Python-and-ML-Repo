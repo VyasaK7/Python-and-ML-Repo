{
 "cells": [
  {
   "cell_type": "code",
   "execution_count": 151,
   "id": "c9d9914b",
   "metadata": {},
   "outputs": [],
   "source": [
    "text=\"mississippi\""
   ]
  },
  {
   "cell_type": "code",
   "execution_count": 123,
   "id": "a1d56d18",
   "metadata": {},
   "outputs": [],
   "source": [
    "def occurence(char):\n",
    "    count=0\n",
    "    for i in range(0,len(text)):\n",
    "        if char==text[i]:\n",
    "            count+=1\n",
    "    return count"
   ]
  },
  {
   "cell_type": "code",
   "execution_count": 124,
   "id": "7676695f",
   "metadata": {},
   "outputs": [
    {
     "name": "stdout",
     "output_type": "stream",
     "text": [
      "2\n"
     ]
    }
   ],
   "source": [
    "print(occurence('p'))"
   ]
  },
  {
   "cell_type": "code",
   "execution_count": 125,
   "id": "7b880e2c",
   "metadata": {},
   "outputs": [
    {
     "name": "stdout",
     "output_type": "stream",
     "text": [
      "i, 4 time\n"
     ]
    }
   ],
   "source": [
    "maxi=0\n",
    "for i in text:\n",
    "    count=0\n",
    "    count=occurence(i)\n",
    "    if count>maxi:\n",
    "        maxi=count\n",
    "        k=i\n",
    "print(k+', '+str(maxi)+\" time\")"
   ]
  },
  {
   "cell_type": "code",
   "execution_count": 126,
   "id": "56fe6cef",
   "metadata": {},
   "outputs": [
    {
     "name": "stdout",
     "output_type": "stream",
     "text": [
      "['m', 'i', 's', 's', 'i', 's', 's', 'i', 'p', 'p', 'i']\n"
     ]
    }
   ],
   "source": [
    "ls2=[]\n",
    "for i in text:\n",
    "    ls2.append(i)\n",
    "print(ls2)"
   ]
  },
  {
   "cell_type": "code",
   "execution_count": 152,
   "id": "78fcd3eb",
   "metadata": {},
   "outputs": [
    {
     "name": "stdout",
     "output_type": "stream",
     "text": [
      "['i', 's', 's', 'i', 's', 's', 'i']\n",
      "s, 4 time\n"
     ]
    }
   ],
   "source": [
    "ls3=[]\n",
    "l=''\n",
    "maxi=0\n",
    "maxi1=0\n",
    "for i in text:\n",
    "    count=0\n",
    "    count=occurence(i)\n",
    "    if count>maxi:\n",
    "        maxi=count\n",
    "        k=i\n",
    "for i in text:\n",
    "    if(occurence(i)==maxi):\n",
    "        ls3.append(i)\n",
    "#print(ls3)\n",
    "ls4=[]\n",
    "for i in range(0,len(ls3)-1):\n",
    "    ls4.append(ls3[i])\n",
    "print(ls4)\n",
    "for m in ls4:\n",
    "    count=0\n",
    "    for i in range(len(ls4)):\n",
    "        if m==ls4[i]:\n",
    "            count+=1\n",
    "    if count>maxi1:\n",
    "        maxi1=count\n",
    "        k=m\n",
    "print(k+', '+str(maxi1)+\" time\")"
   ]
  },
  {
   "cell_type": "code",
   "execution_count": null,
   "id": "f4e6fb2f",
   "metadata": {},
   "outputs": [],
   "source": []
  }
 ],
 "metadata": {
  "kernelspec": {
   "display_name": "Python 3 (ipykernel)",
   "language": "python",
   "name": "python3"
  },
  "language_info": {
   "codemirror_mode": {
    "name": "ipython",
    "version": 3
   },
   "file_extension": ".py",
   "mimetype": "text/x-python",
   "name": "python",
   "nbconvert_exporter": "python",
   "pygments_lexer": "ipython3",
   "version": "3.9.12"
  }
 },
 "nbformat": 4,
 "nbformat_minor": 5
}
