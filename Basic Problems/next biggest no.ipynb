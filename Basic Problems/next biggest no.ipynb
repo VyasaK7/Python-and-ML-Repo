{
 "cells": [
  {
   "cell_type": "code",
   "execution_count": 36,
   "id": "bf859bd2",
   "metadata": {},
   "outputs": [],
   "source": [
    "ls=[16,17,4,3,5,2]\n",
    "ls1=[]"
   ]
  },
  {
   "cell_type": "code",
   "execution_count": 37,
   "id": "8282bd74",
   "metadata": {},
   "outputs": [],
   "source": [
    "def check_next(ls):\n",
    "    for i in ls:\n",
    "        if max(ls)==i:\n",
    "            print(str(i) + \"->\")\n",
    "        for j in range(1,100):\n",
    "            if i+j in ls:\n",
    "                print(str(i) + \"->\" + str(i+j))\n",
    "                break"
   ]
  },
  {
   "cell_type": "code",
   "execution_count": 38,
   "id": "1fb596b4",
   "metadata": {},
   "outputs": [
    {
     "name": "stdout",
     "output_type": "stream",
     "text": [
      "16->17\n",
      "17->\n",
      "4->5\n",
      "3->4\n",
      "5->16\n",
      "2->3\n"
     ]
    }
   ],
   "source": [
    "check_next(ls)"
   ]
  },
  {
   "cell_type": "code",
   "execution_count": 39,
   "id": "7f7db1de",
   "metadata": {},
   "outputs": [
    {
     "name": "stdout",
     "output_type": "stream",
     "text": [
      "[2, 3, 4, 5, 16, 17]\n"
     ]
    }
   ],
   "source": [
    "ls.sort()\n",
    "print(ls)"
   ]
  },
  {
   "cell_type": "code",
   "execution_count": null,
   "id": "f9bd2bf7",
   "metadata": {},
   "outputs": [],
   "source": []
  }
 ],
 "metadata": {
  "kernelspec": {
   "display_name": "Python 3 (ipykernel)",
   "language": "python",
   "name": "python3"
  },
  "language_info": {
   "codemirror_mode": {
    "name": "ipython",
    "version": 3
   },
   "file_extension": ".py",
   "mimetype": "text/x-python",
   "name": "python",
   "nbconvert_exporter": "python",
   "pygments_lexer": "ipython3",
   "version": "3.9.12"
  }
 },
 "nbformat": 4,
 "nbformat_minor": 5
}
