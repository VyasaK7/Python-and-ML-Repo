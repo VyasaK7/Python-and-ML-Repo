{
 "cells": [
  {
   "cell_type": "code",
   "execution_count": 76,
   "id": "c5933977",
   "metadata": {},
   "outputs": [
    {
     "name": "stdout",
     "output_type": "stream",
     "text": [
      "Hello World!\n"
     ]
    }
   ],
   "source": [
    "print(\"Hello World!\")"
   ]
  },
  {
   "cell_type": "code",
   "execution_count": 77,
   "id": "d3adc2a8",
   "metadata": {},
   "outputs": [],
   "source": [
    "def check_pali(text):\n",
    "    for i in range(0,len(text)):\n",
    "        if(text[i]==text[-1-i]):\n",
    "            continue\n",
    "        else:\n",
    "            return None\n",
    "    return text"
   ]
  },
  {
   "cell_type": "code",
   "execution_count": 78,
   "id": "830b3f6b",
   "metadata": {},
   "outputs": [
    {
     "name": "stdout",
     "output_type": "stream",
     "text": [
      "None\n"
     ]
    }
   ],
   "source": [
    "print(check_pali(\"malayalamhhuh\"))"
   ]
  },
  {
   "cell_type": "code",
   "execution_count": 79,
   "id": "976bcf8f",
   "metadata": {},
   "outputs": [
    {
     "name": "stdout",
     "output_type": "stream",
     "text": [
      "Enter String:he did a good deed\n"
     ]
    }
   ],
   "source": [
    "inp_text=input(\"Enter String:\")"
   ]
  },
  {
   "cell_type": "code",
   "execution_count": 80,
   "id": "9ee877d7",
   "metadata": {},
   "outputs": [],
   "source": [
    "ls1=[]\n",
    "ls1=inp_text.split()"
   ]
  },
  {
   "cell_type": "code",
   "execution_count": 81,
   "id": "9b5b4a37",
   "metadata": {},
   "outputs": [
    {
     "name": "stdout",
     "output_type": "stream",
     "text": [
      "['he', 'good']\n"
     ]
    }
   ],
   "source": [
    "ls=[]\n",
    "for i in ls1:\n",
    "    if(check_pali(i)):\n",
    "        pass\n",
    "    else:\n",
    "        ls.append(i)\n",
    "final=\"\"\n",
    "print(ls)"
   ]
  },
  {
   "cell_type": "code",
   "execution_count": 82,
   "id": "033eb124",
   "metadata": {},
   "outputs": [],
   "source": [
    "final=\"\"\n",
    "for i in ls:\n",
    "    final = final + i + ' '"
   ]
  },
  {
   "cell_type": "code",
   "execution_count": 83,
   "id": "2ee0db4e",
   "metadata": {},
   "outputs": [
    {
     "name": "stdout",
     "output_type": "stream",
     "text": [
      "he good \n"
     ]
    }
   ],
   "source": [
    "print(final)"
   ]
  },
  {
   "cell_type": "code",
   "execution_count": null,
   "id": "ac580909",
   "metadata": {},
   "outputs": [],
   "source": []
  }
 ],
 "metadata": {
  "kernelspec": {
   "display_name": "Python 3 (ipykernel)",
   "language": "python",
   "name": "python3"
  },
  "language_info": {
   "codemirror_mode": {
    "name": "ipython",
    "version": 3
   },
   "file_extension": ".py",
   "mimetype": "text/x-python",
   "name": "python",
   "nbconvert_exporter": "python",
   "pygments_lexer": "ipython3",
   "version": "3.9.12"
  }
 },
 "nbformat": 4,
 "nbformat_minor": 5
}
