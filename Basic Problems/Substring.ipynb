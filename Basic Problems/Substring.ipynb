{
 "cells": [
  {
   "cell_type": "code",
   "execution_count": 76,
   "id": "6a3f5c46",
   "metadata": {},
   "outputs": [
    {
     "name": "stdout",
     "output_type": "stream",
     "text": [
      "abcd,abc\n"
     ]
    }
   ],
   "source": [
    "ls1=input().split(\",\")"
   ]
  },
  {
   "cell_type": "code",
   "execution_count": 77,
   "id": "25683bc1",
   "metadata": {},
   "outputs": [
    {
     "name": "stdout",
     "output_type": "stream",
     "text": [
      "['abcd', 'abc']\n"
     ]
    }
   ],
   "source": [
    "print(ls1)"
   ]
  },
  {
   "cell_type": "code",
   "execution_count": 78,
   "id": "68dcb88a",
   "metadata": {},
   "outputs": [
    {
     "name": "stdout",
     "output_type": "stream",
     "text": [
      "abcd abc\n",
      "\\\n"
     ]
    }
   ],
   "source": [
    "str1=ls1[0]\n",
    "str2=ls1[1]\n",
    "print(str1,str2)\n",
    "a='\\\\'\n",
    "print(a)"
   ]
  },
  {
   "cell_type": "code",
   "execution_count": 79,
   "id": "8b1dce36",
   "metadata": {},
   "outputs": [
    {
     "name": "stdout",
     "output_type": "stream",
     "text": [
      "true\n"
     ]
    }
   ],
   "source": [
    "if str2 in str1:\n",
    "    print(\"true\")\n",
    "else:\n",
    "    print(\"false\")"
   ]
  },
  {
   "cell_type": "code",
   "execution_count": 80,
   "id": "0b2c4587",
   "metadata": {},
   "outputs": [],
   "source": [
    "def checks(str1,str2):\n",
    "    for i in range(0,len(str2)):\n",
    "        for j in range(0,len(str1)):\n",
    "            if str2[i]=='*':\n",
    "                continue\n",
    "            elif str2[i]==\"\\\\\": \n",
    "                if str2[i+1]!='*':\n",
    "                    continue\n",
    "            elif str2 in str1:\n",
    "                continue\n",
    "            return False\n",
    "    return True"
   ]
  },
  {
   "cell_type": "code",
   "execution_count": 81,
   "id": "680b62ef",
   "metadata": {},
   "outputs": [
    {
     "name": "stdout",
     "output_type": "stream",
     "text": [
      "True\n"
     ]
    }
   ],
   "source": [
    "res=checks(str1,str2)\n",
    "print(res)"
   ]
  },
  {
   "cell_type": "code",
   "execution_count": 71,
   "id": "1f1e5650",
   "metadata": {},
   "outputs": [],
   "source": [
    "def checks1(str1,str2):\n",
    "    c1=0\n",
    "    c2=0\n",
    "    for i in str2:\n",
    "        c1+=1\n",
    "        for j in str1:\n",
    "            c2+=1\n",
    "            if j=='*':\n",
    "                continue\n",
    "            elif j==\"\\\\\": \n",
    "                if str1[c2]!='*':\n",
    "                    continue\n",
    "            elif str2 in str1:\n",
    "                continue\n",
    "            return False\n",
    "    return True"
   ]
  },
  {
   "cell_type": "code",
   "execution_count": 73,
   "id": "f12503cc",
   "metadata": {},
   "outputs": [
    {
     "name": "stdout",
     "output_type": "stream",
     "text": [
      "False\n"
     ]
    }
   ],
   "source": [
    "res=checks1(str1,str2)\n",
    "print(res)"
   ]
  },
  {
   "cell_type": "code",
   "execution_count": null,
   "id": "30a3a64b",
   "metadata": {},
   "outputs": [],
   "source": []
  }
 ],
 "metadata": {
  "kernelspec": {
   "display_name": "Python 3 (ipykernel)",
   "language": "python",
   "name": "python3"
  },
  "language_info": {
   "codemirror_mode": {
    "name": "ipython",
    "version": 3
   },
   "file_extension": ".py",
   "mimetype": "text/x-python",
   "name": "python",
   "nbconvert_exporter": "python",
   "pygments_lexer": "ipython3",
   "version": "3.9.12"
  }
 },
 "nbformat": 4,
 "nbformat_minor": 5
}
